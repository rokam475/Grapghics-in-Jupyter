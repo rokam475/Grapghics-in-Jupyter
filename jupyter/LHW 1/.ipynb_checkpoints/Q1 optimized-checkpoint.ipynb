{
 "cells": [
  {
   "cell_type": "markdown",
   "id": "1bcc6c08",
   "metadata": {},
   "source": [
    "### Imports"
   ]
  },
  {
   "cell_type": "code",
   "execution_count": 1,
   "id": "ddbc36d5",
   "metadata": {},
   "outputs": [],
   "source": [
    "import numpy as np\n",
    "from matplotlib import pyplot as plt\n",
    "import time\n",
    "from scipy.signal import convolve2d\n"
   ]
  },
  {
   "cell_type": "code",
   "execution_count": 2,
   "id": "cd52e6d4",
   "metadata": {},
   "outputs": [],
   "source": [
    "def readGrid(fileName, size):\n",
    "    key = {\n",
    "        \"X\": 1,\n",
    "        \"O\": -1,\n",
    "        \".\": 0\n",
    "    }\n",
    "\n",
    "    grid = np.zeros([size, size])\n",
    "    grid = grid.astype(str)\n",
    "\n",
    "    with open(fileName) as file:\n",
    "        y = 0\n",
    "        for line in file:\n",
    "            x = 0\n",
    "            elems = [string.strip() for string in line.split(\"\\t\")]\n",
    "            for elem in elems:\n",
    "                grid[x,y] = elem\n",
    "                x += 1\n",
    "            y += 1\n",
    "    return grid.T"
   ]
  },
  {
   "cell_type": "code",
   "execution_count": 3,
   "id": "7b0d77a8",
   "metadata": {},
   "outputs": [],
   "source": [
    "def schelling(fileName, size, tol, iterations=1000):\n",
    "    grid = readGrid(fileName, size) # get grid    \n",
    "    playing = True # while players can move\n",
    "    history = []\n",
    "    \n",
    "    frees, playerCount = findFrees(grid, tol)\n",
    "    playing = True\n",
    "    \n",
    "    for i in range(iterations): \n",
    "        if playing:\n",
    "            temp = np.copy(grid)\n",
    "            \n",
    "            grid, neighFrac, frees = schelling_step(grid, tol, frees)\n",
    "            history.append(neighFrac/playerCount)\n",
    "            \n",
    "            if (temp == grid).all():\n",
    "                playing = False\n",
    "        else:\n",
    "            history.append(history[-1])\n",
    "    \n",
    "    # check player retention\n",
    "    emptys = grid==\".\"\n",
    "    count = 0\n",
    "    for elem in emptys.flatten():\n",
    "        if elem:\n",
    "            count += 1\n",
    "    if count != 2500:\n",
    "        print(\"lost players\")\n",
    "        return None\n",
    "        \n",
    "    return history"
   ]
  },
  {
   "cell_type": "code",
   "execution_count": 4,
   "id": "97c4164f",
   "metadata": {},
   "outputs": [],
   "source": [
    "def findFrees(grid, tol):\n",
    "    kernel = np.array([\n",
    "            [1, 1, 1],\n",
    "            [1, 0, 1],\n",
    "            [1, 1, 1]])\n",
    "    X_neighs = convolve2d(grid == \"X\", kernel, mode='same') # get X neighbors per cell\n",
    "    O_neighs = convolve2d(grid == \"O\", kernel, mode='same') # get O neighbors per cell\n",
    "    emptys = grid==\".\"\n",
    "    \n",
    "    freeX = set()\n",
    "    freeO = set()\n",
    "    playerCount = 0\n",
    "    \n",
    "    for x in range(len(grid)):      # loop through grid\n",
    "        for y in range(len(grid)):\n",
    "            cord = (x,y)\n",
    "            if emptys[cord]: # if empty\n",
    "                if X_neighs[cord] >= tol: # update possible X candidate\n",
    "                    freeX.add(cord)\n",
    "                elif O_neighs[cord] >= tol: # update possible O candidate\n",
    "                    freeO.add(cord)\n",
    "            else: # else if not empty update player count\n",
    "                playerCount += 1\n",
    "                \n",
    "    return ((freeX, freeO), playerCount)\n",
    "\n",
    "def schelling_step(grid, tol, frees):\n",
    "    \n",
    "    kernel = np.array([\n",
    "                [1, 1, 1],\n",
    "                [1, 0, 1],\n",
    "                [1, 1, 1]])\n",
    "    X_neighs = convolve2d(grid == \"X\", kernel, mode='same')\n",
    "    O_neighs = convolve2d(grid == \"O\", kernel, mode='same')\n",
    "    \n",
    "    neighFrac = 0    \n",
    "    freeX, freeO = frees\n",
    "    for x in range(len(grid)):      # loop through grid\n",
    "        for y in range(len(grid)):\n",
    "            cord = (x,y)\n",
    "            symbol = grid[cord]\n",
    "            \n",
    "            if symbol == \".\": # if empty update free spots\n",
    "                if X_neighs[cord] >= tol:\n",
    "                    freeX.add(cord)\n",
    "                elif O_neighs[cord] >= tol:\n",
    "                    freeO.add(cord)\n",
    "                    \n",
    "            elif symbol == \"X\": # else if X\n",
    "                neighFrac += X_neighs[cord]/8 # add neighbor frac / 8 spots\n",
    "                if X_neighs[cord] < tol: # if not satisfied\n",
    "                    if len(freeX) > 0: # and if free spots left\n",
    "                        newPos = freeX.pop() # get next free X spot\n",
    "                        freeO.discard(newPos) # remove spot if in O free list\n",
    "                        grid[newPos] = symbol # swap spots\n",
    "                        grid[cord] = \".\"\n",
    "\n",
    "            elif symbol == \"O\": # else if O\n",
    "                neighFrac += O_neighs[cord]/8 # add neighbor frac / 8 spots\n",
    "                if O_neighs[cord] < tol: # if not satisfied\n",
    "                    if len(freeO) > 0: # and if free spot left\n",
    "                        newPos = freeO.pop() # get next free spot\n",
    "                        freeX.discard(newPos) # remove spot if in X free list\n",
    "                        grid[newPos] = symbol # swap spots\n",
    "                        grid[cord] = \".\"\n",
    "                  \n",
    "    return ( grid, neighFrac, (freeX, freeO) )"
   ]
  },
  {
   "cell_type": "code",
   "execution_count": 5,
   "id": "937389b9",
   "metadata": {},
   "outputs": [],
   "source": [
    "def trend(tols, size, fileName, iterations=20):\n",
    "\n",
    "    trends = []\n",
    "\n",
    "    for tol in tols:\n",
    "        print(\"tol: \", str(tol))\n",
    "        toAvarage = []\n",
    "        for i in range(iterations):\n",
    "            toAvarage.append(schelling(fileName, size, tol))\n",
    "        toAvarage = np.asarray(toAvarage)\n",
    "        trends.append(np.mean(toAvarage, axis=0))\n",
    "    return trends\n",
    "\n",
    "def plot(tols, data, range=None):\n",
    "    size = len(tols)\n",
    "    for i in range(size):\n",
    "        if range=None:\n",
    "            plt.plot(data[i], label = \"tol of \" + str(tols[i]))\n",
    "        else:\n",
    "            plt.plot(data[i][:range], label = \"tol of \" + str(tols[i]))\n",
    "    plt.show()"
   ]
  },
  {
   "cell_type": "code",
   "execution_count": 6,
   "id": "00c486a2",
   "metadata": {},
   "outputs": [
    {
     "name": "stdout",
     "output_type": "stream",
     "text": [
      "tol:  2\n",
      "tol:  3\n",
      "tol:  4\n",
      "tol:  5\n",
      "tol:  6\n",
      "(5, 1000)\n"
     ]
    }
   ],
   "source": [
    "tols = [2,3,4,5,6]\n",
    "size = 150\n",
    "fileName = \"grid.txt\"\n",
    "# res = schelling(fileName, size, tols[1])\n",
    "data = trend(tols, size, fileName)\n",
    "print(np.array(data).shape)"
   ]
  },
  {
   "cell_type": "code",
   "execution_count": 7,
   "id": "a02f412f",
   "metadata": {},
   "outputs": [
    {
     "data": {
      "image/png": "[encoded data removed]",
      "text/plain": [
       "<Figure size 432x288 with 1 Axes>"
      ]
     },
     "metadata": {
      "needs_background": "light"
     },
     "output_type": "display_data"
    }
   ],
   "source": [
    "plot(tols, data)\n"
   ]
  },
  {
   "cell_type": "code",
   "execution_count": null,
   "id": "b5e34e8c",
   "metadata": {},
   "outputs": [],
   "source": []
  }
 ],
 "metadata": {
  "kernelspec": {
   "display_name": "Python 3 (ipykernel)",
   "language": "python",
   "name": "python3"
  },
  "language_info": {
   "codemirror_mode": {
    "name": "ipython",
    "version": 3
   },
   "file_extension": ".py",
   "mimetype": "text/x-python",
   "name": "python",
   "nbconvert_exporter": "python",
   "pygments_lexer": "ipython3",
   "version": "3.9.5"
  }
 },
 "nbformat": 4,
 "nbformat_minor": 5
}
