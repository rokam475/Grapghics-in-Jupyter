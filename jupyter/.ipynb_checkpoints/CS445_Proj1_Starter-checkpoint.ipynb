{
 "cells": [
  {
   "cell_type": "markdown",
   "metadata": {
    "colab_type": "text",
    "id": "ps1Z52rWkMSk"
   },
   "source": [
    "# Programming Project #1: Hybrid Images"
   ]
  },
  {
   "cell_type": "markdown",
   "metadata": {
    "colab_type": "text",
    "id": "eSzT25GwkMSl"
   },
   "source": [
    "## CS445: Computational Photography"
   ]
  },
  {
   "cell_type": "markdown",
   "metadata": {
    "colab_type": "text",
    "id": "kYtDyOhJkMSm"
   },
   "source": [
    "### Part I: Hybrid Images"
   ]
  },
  {
   "cell_type": "code",
   "execution_count": 1,
   "metadata": {
    "colab": {},
    "colab_type": "code",
    "id": "nuz8eybjnZ0t"
   },
   "outputs": [
    {
     "ename": "ModuleNotFoundError",
     "evalue": "No module named 'google'",
     "output_type": "error",
     "traceback": [
      "\u001b[1;31m---------------------------------------------------------------------------\u001b[0m",
      "\u001b[1;31mModuleNotFoundError\u001b[0m                       Traceback (most recent call last)",
      "Input \u001b[1;32mIn [1]\u001b[0m, in \u001b[0;36m<module>\u001b[1;34m\u001b[0m\n\u001b[0;32m      1\u001b[0m \u001b[38;5;66;03m# Optional, if using Google Colab w/ Drive\u001b[39;00m\n\u001b[1;32m----> 2\u001b[0m \u001b[38;5;28;01mfrom\u001b[39;00m \u001b[38;5;21;01mgoogle\u001b[39;00m\u001b[38;5;21;01m.\u001b[39;00m\u001b[38;5;21;01mcolab\u001b[39;00m \u001b[38;5;28;01mimport\u001b[39;00m drive\n\u001b[0;32m      3\u001b[0m drive\u001b[38;5;241m.\u001b[39mmount(\u001b[38;5;124m'\u001b[39m\u001b[38;5;124m/content/drive\u001b[39m\u001b[38;5;124m'\u001b[39m, force_remount\u001b[38;5;241m=\u001b[39m\u001b[38;5;28;01mTrue\u001b[39;00m)\n",
      "\u001b[1;31mModuleNotFoundError\u001b[0m: No module named 'google'"
     ]
    }
   ],
   "source": [
    "# Optional, if using Google Colab w/ Drive\n",
    "from google.colab import drive\n",
    "drive.mount('/content/drive', force_remount=True)\n",
    "\n"
   ]
  },
  {
   "cell_type": "code",
   "execution_count": 8,
   "metadata": {
    "colab": {},
    "colab_type": "code",
    "id": "YzHMxFdPkMSm"
   },
   "outputs": [
    {
     "name": "stderr",
     "output_type": "stream",
     "text": [
      "'cp' is not recognized as an internal or external command,\n",
      "operable program or batch file.\n"
     ]
    },
    {
     "ename": "ModuleNotFoundError",
     "evalue": "No module named 'utils'",
     "output_type": "error",
     "traceback": [
      "\u001b[1;31m---------------------------------------------------------------------------\u001b[0m",
      "\u001b[1;31mModuleNotFoundError\u001b[0m                       Traceback (most recent call last)",
      "Input \u001b[1;32mIn [8]\u001b[0m, in \u001b[0;36m<module>\u001b[1;34m\u001b[0m\n\u001b[0;32m     10\u001b[0m utilfn \u001b[38;5;241m=\u001b[39m datadir \u001b[38;5;241m+\u001b[39m \u001b[38;5;124m\"\u001b[39m\u001b[38;5;124mutils.py\u001b[39m\u001b[38;5;124m\"\u001b[39m\n\u001b[0;32m     11\u001b[0m get_ipython()\u001b[38;5;241m.\u001b[39msystem(\u001b[38;5;124m'\u001b[39m\u001b[38;5;124mcp \u001b[39m\u001b[38;5;124m\"\u001b[39m\u001b[38;5;124m$utilfn\u001b[39m\u001b[38;5;124m\"\u001b[39m\u001b[38;5;124m .\u001b[39m\u001b[38;5;124m'\u001b[39m)\n\u001b[1;32m---> 12\u001b[0m \u001b[38;5;28;01mimport\u001b[39;00m \u001b[38;5;21;01mutils\u001b[39;00m\n",
      "\u001b[1;31mModuleNotFoundError\u001b[0m: No module named 'utils'"
     ]
    }
   ],
   "source": [
    "import cv2\n",
    "\n",
    "import numpy as np\n",
    "from matplotlib.colors import LogNorm\n",
    "from scipy import signal\n",
    "\n",
    "import os\n",
    "os.getcwd()\n",
    "\n",
    "\n",
    "# modify to where you store your project data including utils.py\n",
    "datadir = \"hybrid\" \n",
    "\n",
    "utilfn = datadir + \"utils.py\"\n",
    "!cp \"$utilfn\" .\n",
    "import utils"
   ]
  },
  {
   "cell_type": "code",
   "execution_count": null,
   "metadata": {
    "colab": {},
    "colab_type": "code",
    "id": "Bs4F36-4kMSq"
   },
   "outputs": [],
   "source": [
    "# switch from notebook to inline if using colab or otherwise cannot use interactive display)\n",
    "%matplotlib notebook  \n",
    "import matplotlib.pyplot as plt"
   ]
  },
  {
   "cell_type": "code",
   "execution_count": null,
   "metadata": {
    "colab": {},
    "colab_type": "code",
    "id": "gBkEVnNHkMSt"
   },
   "outputs": [],
   "source": [
    "im1_file = datadir + 'nutmeg.jpg'\n",
    "im2_file = datadir + 'DerekPicture.jpg'\n",
    "\n",
    "im1 = np.float32(cv2.imread(im1_file, cv2.IMREAD_GRAYSCALE) / 255.0)\n",
    "im2 = np.float32(cv2.imread(im2_file, cv2.IMREAD_GRAYSCALE) / 255.0)"
   ]
  },
  {
   "cell_type": "code",
   "execution_count": null,
   "metadata": {
    "colab": {},
    "colab_type": "code",
    "id": "RxOD0znqkMSz"
   },
   "outputs": [],
   "source": [
    "pts_im1 = utils.prompt_eye_selection(im1)\n",
    "# pts_im1 = np.array([[607, 290], [748, 370]]) # uncomment if entering [x, y] pts manually\n",
    "# plt.plot(pts_im1[:,0], pts_im1[:,1], 'r-+')"
   ]
  },
  {
   "cell_type": "code",
   "execution_count": null,
   "metadata": {
    "colab": {},
    "colab_type": "code",
    "id": "PTFwakGgkMS2"
   },
   "outputs": [],
   "source": [
    "pts_im2 = utils.prompt_eye_selection(im2)\n",
    "# pts_im2 = np.array([[299,343], [439,331]]) # uncomment if entering [x, y] pts manually\n",
    "# plt.plot(pts_im2[:,0], pts_im2[:,1], 'r-+')"
   ]
  },
  {
   "cell_type": "code",
   "execution_count": null,
   "metadata": {
    "colab": {},
    "colab_type": "code",
    "id": "YtNVQUO0kMS6"
   },
   "outputs": [],
   "source": [
    "im1, im2 = utils.align_images(im1_file, im2_file,pts_im1,pts_im2,save_images=False)\n"
   ]
  },
  {
   "cell_type": "code",
   "execution_count": null,
   "metadata": {
    "colab": {},
    "colab_type": "code",
    "id": "Br8nOfGSkMS_"
   },
   "outputs": [],
   "source": [
    "# convert to grayscale\n",
    "im1 = cv2.cvtColor(im1, cv2.COLOR_BGR2GRAY) / 255.0\n",
    "im2 = cv2.cvtColor(im2, cv2.COLOR_BGR2GRAY) / 255.0"
   ]
  },
  {
   "cell_type": "code",
   "execution_count": null,
   "metadata": {
    "colab": {},
    "colab_type": "code",
    "id": "ATj-_4y7kMTE"
   },
   "outputs": [],
   "source": [
    "#Images sanity check\n",
    "fig, axes = plt.subplots(1, 2)\n",
    "axes[0].imshow(im1,cmap='gray')\n",
    "axes[0].set_title('Image 1'), axes[0].set_xticks([]), axes[0].set_yticks([])\n",
    "axes[1].imshow(im2,cmap='gray')\n",
    "axes[1].set_title('Image 2'), axes[1].set_xticks([]), axes[1].set_yticks([]);"
   ]
  },
  {
   "cell_type": "code",
   "execution_count": null,
   "metadata": {
    "colab": {},
    "colab_type": "code",
    "id": "SxJTlAQPkMTH"
   },
   "outputs": [],
   "source": [
    "def hybridImage(im1, im2, sigma_low, sigma_high):\n",
    "    '''\n",
    "    Inputs:\n",
    "        im1:    RGB (height x width x 3) or a grayscale (height x width) image\n",
    "                as a numpy array.\n",
    "        im2:    RGB (height x width x 3) or a grayscale (height x width) image\n",
    "                as a numpy array.\n",
    "        sigma_low: standard deviation for the low-pass filter\n",
    "        sigma_high: standard deviation for the high-pass filter\n",
    "        \n",
    "    Output:\n",
    "        Return the combination of both images, one filtered with a low-pass filter\n",
    "        and the other with a high-pass filter.\n",
    "    '''  \n",
    "\n",
    "    # your code goes here  \n"
   ]
  },
  {
   "cell_type": "code",
   "execution_count": null,
   "metadata": {
    "colab": {},
    "colab_type": "code",
    "id": "2HEAywCvkMTK"
   },
   "outputs": [],
   "source": [
    "sigma_low = 20 # choose parameters that work for your images\n",
    "sigma_high = 20\n",
    "\n",
    "im_hybrid = hybridImage(im2, im1, sigma_low, sigma_high)\n"
   ]
  },
  {
   "cell_type": "code",
   "execution_count": null,
   "metadata": {
    "colab": {},
    "colab_type": "code",
    "id": "VnCa2YbvkMTN"
   },
   "outputs": [],
   "source": [
    "# Optional: Select top left corner and bottom right corner to crop image\n",
    "# the function returns dictionary of \n",
    "# {\n",
    "#   'cropped_image': np.ndarray of shape H x W\n",
    "#   'crop_bound': np.ndarray of shape 2x2\n",
    "# }\n",
    "cropped_object = utils.interactive_crop(im_hybrid)"
   ]
  },
  {
   "cell_type": "markdown",
   "metadata": {
    "colab_type": "text",
    "id": "0tvnAx4TkMTR"
   },
   "source": [
    "### Part II: Image Enhancement"
   ]
  },
  {
   "cell_type": "markdown",
   "metadata": {
    "colab_type": "text",
    "id": "xwlPNKIPkMTS"
   },
   "source": [
    "##### Two out of three types of image enhancement are required.  Choose a good image to showcase each type and implement a method.  This code doesn't rely on the hybrid image part."
   ]
  },
  {
   "cell_type": "markdown",
   "metadata": {
    "colab_type": "text",
    "id": "HZG-LMmRkMTT"
   },
   "source": [
    "#### Contrast enhancement"
   ]
  },
  {
   "cell_type": "code",
   "execution_count": null,
   "metadata": {
    "colab": {},
    "colab_type": "code",
    "id": "CZLTfqYIkMTT"
   },
   "outputs": [],
   "source": [
    "\n"
   ]
  },
  {
   "cell_type": "markdown",
   "metadata": {
    "colab_type": "text",
    "id": "JpJEnySRkMTW"
   },
   "source": [
    "#### Color enhancement "
   ]
  },
  {
   "cell_type": "code",
   "execution_count": null,
   "metadata": {
    "colab": {},
    "colab_type": "code",
    "id": "KCIN5A2pkMTX"
   },
   "outputs": [],
   "source": []
  },
  {
   "cell_type": "markdown",
   "metadata": {
    "colab_type": "text",
    "id": "tURJ5105kMTa"
   },
   "source": [
    "#### Color shift"
   ]
  },
  {
   "cell_type": "code",
   "execution_count": null,
   "metadata": {
    "colab": {},
    "colab_type": "code",
    "id": "0mejdC0XkMTb"
   },
   "outputs": [],
   "source": [
    "\n"
   ]
  }
 ],
 "metadata": {
  "colab": {
   "name": "CS445_Proj1_Starter.ipynb",
   "provenance": [],
   "toc_visible": true
  },
  "kernelspec": {
   "display_name": "Python 3 (ipykernel)",
   "language": "python",
   "name": "python3"
  },
  "language_info": {
   "codemirror_mode": {
    "name": "ipython",
    "version": 3
   },
   "file_extension": ".py",
   "mimetype": "text/x-python",
   "name": "python",
   "nbconvert_exporter": "python",
   "pygments_lexer": "ipython3",
   "version": "3.9.5"
  }
 },
 "nbformat": 4,
 "nbformat_minor": 1
}
